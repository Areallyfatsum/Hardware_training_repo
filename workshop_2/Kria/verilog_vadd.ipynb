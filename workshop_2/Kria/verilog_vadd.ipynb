{
 "cells": [
  {
   "cell_type": "markdown",
   "id": "76140dde",
   "metadata": {},
   "source": [
    "Load bitstream to PL..."
   ]
  },
  {
   "cell_type": "code",
   "execution_count": 5,
   "id": "022ee278",
   "metadata": {},
   "outputs": [
    {
     "ename": "ModuleNotFoundError",
     "evalue": "No module named 'pynq'",
     "output_type": "error",
     "traceback": [
      "\u001b[1;31m---------------------------------------------------------------------------\u001b[0m",
      "\u001b[1;31mModuleNotFoundError\u001b[0m                       Traceback (most recent call last)",
      "Cell \u001b[1;32mIn[5], line 2\u001b[0m\n\u001b[0;32m      1\u001b[0m \u001b[38;5;28;01mimport\u001b[39;00m \u001b[38;5;21;01mnumpy\u001b[39;00m \u001b[38;5;28;01mas\u001b[39;00m \u001b[38;5;21;01mnp\u001b[39;00m\n\u001b[1;32m----> 2\u001b[0m \u001b[38;5;28;01mimport\u001b[39;00m \u001b[38;5;21;01mpynq\u001b[39;00m\n\u001b[0;32m      4\u001b[0m \u001b[38;5;66;03m# Load bitstream to PL\u001b[39;00m\n\u001b[0;32m      5\u001b[0m overlay \u001b[38;5;241m=\u001b[39m pynq\u001b[38;5;241m.\u001b[39mOverlay(\u001b[38;5;124m'\u001b[39m\u001b[38;5;124m./verilog_vadd.bit\u001b[39m\u001b[38;5;124m'\u001b[39m)\n",
      "\u001b[1;31mModuleNotFoundError\u001b[0m: No module named 'pynq'"
     ]
    }
   ],
   "source": [
    "import numpy as np\n",
    "import pynq\n",
    "\n",
    "# Load bitstream to PL\n",
    "overlay = pynq.Overlay('./verilog_vadd.bit')\n",
    "#dir(overlay)"
   ]
  },
  {
   "cell_type": "markdown",
   "id": "fc5d576d",
   "metadata": {},
   "source": [
    "Get reference to AXI IP cores..."
   ]
  },
  {
   "cell_type": "code",
   "execution_count": 2,
   "id": "5e821889",
   "metadata": {},
   "outputs": [],
   "source": [
    "ctrl = overlay.axi_gpio_0\n",
    "bram_a = overlay.axi_bram_ctrl_a\n",
    "bram_b = overlay.axi_bram_ctrl_b\n",
    "bram_s = overlay.axi_bram_ctrl_s"
   ]
  },
  {
   "cell_type": "markdown",
   "id": "576a3acc",
   "metadata": {},
   "source": [
    "Create input test vectors and write to $a$ and $b$ RAM.\n",
    "\n",
    "**Note for the observant and curious:** PYNQ memory mapped IO (MMIO) read and write address offsets are required to be a multiple of 0x4. This is under the assumption memory locations are 32 bits wide but addresses have byte resolution. This conflicts with our addressing scheme of RAM in Verilog where each new address requires only that we increment by 0x1. We handle this mismatch transpartently in the block design by dropping the two least significant address lines when connecting the PS to your `vadd` module. You should be able to ignore this note and still have your module function correctly."
   ]
  },
  {
   "cell_type": "code",
   "execution_count": 3,
   "id": "e35d5c67",
   "metadata": {},
   "outputs": [],
   "source": [
    "n = 100\n",
    "a = np.arange(n, dtype=np.uint32)     # 0, 1, ..., 99\n",
    "b = np.arange(n, dtype=np.uint32)     # 0, 1, ..., 99\n",
    "for i in range(n):\n",
    "    bram_a.write(0x4*i, int(a[i]))    # memory offset of 0x4 due to pynq restriction\n",
    "    bram_b.write(0x4*i, int(b[i]))"
   ]
  },
  {
   "cell_type": "markdown",
   "id": "7a4f5876",
   "metadata": {},
   "source": [
    "Run our IP core by toggling `start` pin from low to high... "
   ]
  },
  {
   "cell_type": "code",
   "execution_count": 4,
   "id": "8c091ac8",
   "metadata": {},
   "outputs": [],
   "source": [
    "ctrl.register_map.GPIO_DATA = 0\n",
    "ctrl.register_map.GPIO_DATA = 1"
   ]
  },
  {
   "cell_type": "markdown",
   "id": "fb6b88d6",
   "metadata": {},
   "source": [
    "Read back summation result $s$ from output BRAM..."
   ]
  },
  {
   "cell_type": "code",
   "execution_count": 5,
   "id": "548d912b",
   "metadata": {},
   "outputs": [
    {
     "name": "stdout",
     "output_type": "stream",
     "text": [
      "0 2 4 6 8 10 12 14 16 18 20 22 24 26 28 30 32 34 36 38 40 42 44 46 48 50 52 54 56 58 60 62 64 66 68 70 72 74 76 78 80 82 84 86 88 90 92 94 96 98 100 102 104 106 108 110 112 114 116 118 120 122 124 126 128 130 132 134 136 138 140 142 144 146 148 150 152 154 156 158 160 162 164 166 168 170 172 174 176 178 180 182 184 186 188 190 192 194 196 198 "
     ]
    }
   ],
   "source": [
    "for i in range(n):\n",
    "    print(bram_s.read(0x4*i), end=' ')"
   ]
  },
  {
   "cell_type": "code",
   "execution_count": null,
   "id": "aa34a047",
   "metadata": {},
   "outputs": [],
   "source": []
  }
 ],
 "metadata": {
  "kernelspec": {
   "display_name": "Python 3 (ipykernel)",
   "language": "python",
   "name": "python3"
  },
  "language_info": {
   "codemirror_mode": {
    "name": "ipython",
    "version": 3
   },
   "file_extension": ".py",
   "mimetype": "text/x-python",
   "name": "python",
   "nbconvert_exporter": "python",
   "pygments_lexer": "ipython3",
   "version": "3.11.3"
  },
  "toc": {
   "base_numbering": 1,
   "nav_menu": {},
   "number_sections": true,
   "sideBar": true,
   "skip_h1_title": false,
   "title_cell": "Table of Contents",
   "title_sidebar": "Contents",
   "toc_cell": false,
   "toc_position": {},
   "toc_section_display": true,
   "toc_window_display": false
  }
 },
 "nbformat": 4,
 "nbformat_minor": 5
}
