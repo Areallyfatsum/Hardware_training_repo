{
 "cells": [
  {
   "cell_type": "code",
   "execution_count": 1,
   "metadata": {},
   "outputs": [
    {
     "data": {
      "application/javascript": [
       "\n",
       "try {\n",
       "require(['notebook/js/codecell'], function(codecell) {\n",
       "  codecell.CodeCell.options_default.highlight_modes[\n",
       "      'magic_text/x-csrc'] = {'reg':[/^%%microblaze/]};\n",
       "  Jupyter.notebook.events.one('kernel_ready.Kernel', function(){\n",
       "      Jupyter.notebook.get_cells().map(function(cell){\n",
       "          if (cell.cell_type == 'code'){ cell.auto_highlight(); } }) ;\n",
       "  });\n",
       "});\n",
       "} catch (e) {};\n"
      ]
     },
     "metadata": {},
     "output_type": "display_data"
    },
    {
     "data": {
      "application/javascript": [
       "\n",
       "try {\n",
       "require(['notebook/js/codecell'], function(codecell) {\n",
       "  codecell.CodeCell.options_default.highlight_modes[\n",
       "      'magic_text/x-csrc'] = {'reg':[/^%%pybind11/]};\n",
       "  Jupyter.notebook.events.one('kernel_ready.Kernel', function(){\n",
       "      Jupyter.notebook.get_cells().map(function(cell){\n",
       "          if (cell.cell_type == 'code'){ cell.auto_highlight(); } }) ;\n",
       "  });\n",
       "});\n",
       "} catch (e) {};\n"
      ]
     },
     "metadata": {},
     "output_type": "display_data"
    },
    {
     "data": {
      "text/plain": [
       "RegisterMap {\n",
       "  CTRL = Register(AP_START=0, AP_DONE=0, AP_IDLE=1, AP_READY=0, RESERVED_1=0, AUTO_RESTART=0, RESERVED_2=0, INTERRUPT=0, RESERVED_3=0),\n",
       "  GIER = Register(Enable=0, RESERVED=0),\n",
       "  IP_IER = Register(CHAN0_INT_EN=0, CHAN1_INT_EN=0, RESERVED_0=0),\n",
       "  IP_ISR = Register(CHAN0_INT_ST=0, CHAN1_INT_ST=0, RESERVED_0=0),\n",
       "  a_1 = Register(a=write-only),\n",
       "  a_2 = Register(a=write-only),\n",
       "  b_1 = Register(b=write-only),\n",
       "  b_2 = Register(b=write-only),\n",
       "  s_1 = Register(s=write-only),\n",
       "  s_2 = Register(s=write-only)\n",
       "}"
      ]
     },
     "execution_count": 1,
     "metadata": {},
     "output_type": "execute_result"
    }
   ],
   "source": [
    "\"\"\"Test HLS vector addition accelerator.\"\"\"\n",
    "import numpy as np\n",
    "import pynq\n",
    "\n",
    "N = 100 # array size\n",
    "\n",
    "# load bitstream\n",
    "overlay = pynq.Overlay('./vadd_hls.bit')\n",
    "\n",
    "# get vadd IP reference\n",
    "vadd = overlay.vadd_0\n",
    "vadd.register_map"
   ]
  },
  {
   "cell_type": "code",
   "execution_count": 2,
   "metadata": {},
   "outputs": [],
   "source": [
    "# allocate arrays in DRAM memory\n",
    "a = pynq.allocate((N), dtype=np.int32)\n",
    "b = pynq.allocate((N), dtype=np.int32)\n",
    "s = pynq.allocate((N), dtype=np.int32)\n",
    "\n",
    "# tell vadd IP the DRAM memory location of allocated vectors\n",
    "vadd.write(vadd.register_map.a_1.address, a.physical_address)\n",
    "vadd.write(vadd.register_map.b_1.address, b.physical_address)\n",
    "vadd.write(vadd.register_map.s_1.address, s.physical_address)"
   ]
  },
  {
   "cell_type": "code",
   "execution_count": 3,
   "metadata": {},
   "outputs": [],
   "source": [
    "# initialize input vectors a and b in DRAM from PS\n",
    "for i in range(100):\n",
    "    a[i] = i\n",
    "    b[i] = i + 1"
   ]
  },
  {
   "cell_type": "code",
   "execution_count": 4,
   "metadata": {},
   "outputs": [
    {
     "name": "stdout",
     "output_type": "stream",
     "text": [
      "115 µs ± 359 ns per loop (mean ± std. dev. of 10 runs, 1,000 loops each)\n"
     ]
    }
   ],
   "source": [
    "%%timeit -r 10 -n 1000\n",
    "\n",
    "# send vadd start signal and wait until done\n",
    "ctrl = vadd.register_map.CTRL\n",
    "ctrl.AP_START = 1\n",
    "while ctrl.AP_DONE != 1:\n",
    "    pass"
   ]
  },
  {
   "cell_type": "code",
   "execution_count": 5,
   "metadata": {},
   "outputs": [
    {
     "name": "stdout",
     "output_type": "stream",
     "text": [
      "a:0 + b:1 = s:1\n",
      "a:1 + b:2 = s:3\n",
      "a:2 + b:3 = s:5\n",
      "a:3 + b:4 = s:7\n",
      "a:4 + b:5 = s:9\n",
      "a:5 + b:6 = s:11\n",
      "a:6 + b:7 = s:13\n",
      "a:7 + b:8 = s:15\n",
      "a:8 + b:9 = s:17\n",
      "a:9 + b:10 = s:19\n"
     ]
    }
   ],
   "source": [
    "# check the results\n",
    "for i in range(10):\n",
    "    print('a:{} + b:{} = s:{}'.format(a[i], b[i], s[i]))"
   ]
  },
  {
   "cell_type": "code",
   "execution_count": null,
   "metadata": {},
   "outputs": [],
   "source": []
  }
 ],
 "metadata": {
  "kernelspec": {
   "display_name": "Python 3 (ipykernel)",
   "language": "python",
   "name": "python3"
  },
  "language_info": {
   "codemirror_mode": {
    "name": "ipython",
    "version": 3
   },
   "file_extension": ".py",
   "mimetype": "text/x-python",
   "name": "python",
   "nbconvert_exporter": "python",
   "pygments_lexer": "ipython3",
   "version": "3.10.6"
  }
 },
 "nbformat": 4,
 "nbformat_minor": 2
}
